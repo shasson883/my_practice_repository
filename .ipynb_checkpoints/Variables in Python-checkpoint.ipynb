{
 "cells": [
  {
   "cell_type": "markdown",
   "id": "5e70f587",
   "metadata": {},
   "source": [
    "# Variables in Python"
   ]
  },
  {
   "cell_type": "code",
   "execution_count": 3,
   "id": "162a14d7",
   "metadata": {},
   "outputs": [],
   "source": [
    "# https://www.youtube.com/watch?v=pHOH7UfOhbE&list=PLUaB-1hjhk8GHKfndKjyDMHPg_HlQ4vpK&index=2&ab_channel=AlexTheAnalyst"
   ]
  },
  {
   "cell_type": "markdown",
   "id": "96d93ea8",
   "metadata": {},
   "source": [
    "## Assigning a value to a variable"
   ]
  },
  {
   "cell_type": "code",
   "execution_count": 5,
   "id": "9d579b32",
   "metadata": {},
   "outputs": [
    {
     "name": "stdout",
     "output_type": "stream",
     "text": [
      "22\n"
     ]
    }
   ],
   "source": [
    "# 'x' is the variable\n",
    "# '22' is the value\n",
    "x = 22\n",
    "print(x)"
   ]
  },
  {
   "cell_type": "markdown",
   "id": "c260fb5f",
   "metadata": {},
   "source": [
    "## Validating the data type of a variable"
   ]
  },
  {
   "cell_type": "code",
   "execution_count": 7,
   "id": "e6269852",
   "metadata": {},
   "outputs": [
    {
     "data": {
      "text/plain": [
       "int"
      ]
     },
     "execution_count": 7,
     "metadata": {},
     "output_type": "execute_result"
    }
   ],
   "source": [
    "# determining the data type of a variable\n",
    "# python identified that 'x' is an integer \n",
    "type(x)"
   ]
  },
  {
   "cell_type": "code",
   "execution_count": 9,
   "id": "9908ebd4",
   "metadata": {},
   "outputs": [
    {
     "name": "stdout",
     "output_type": "stream",
     "text": [
      "Mint Chocolate Chip\n"
     ]
    },
    {
     "data": {
      "text/plain": [
       "str"
      ]
     },
     "execution_count": 9,
     "metadata": {},
     "output_type": "execute_result"
    }
   ],
   "source": [
    "# creating a new variable & assigning a string value, then checking that python correctly identifies it as a string\n",
    "y = 'Mint Chocolate Chip'\n",
    "print(y)\n",
    "type(y)"
   ]
  },
  {
   "cell_type": "markdown",
   "id": "e2cfde03",
   "metadata": {},
   "source": [
    "## Overwriting variable values"
   ]
  },
  {
   "cell_type": "code",
   "execution_count": 10,
   "id": "e4c6a123",
   "metadata": {},
   "outputs": [
    {
     "name": "stdout",
     "output_type": "stream",
     "text": [
      "Chocolate\n"
     ]
    }
   ],
   "source": [
    "# in this example the previous value for 'y' is overwritten\n",
    "y = 'Chocolate'\n",
    "print(y)\n"
   ]
  },
  {
   "cell_type": "markdown",
   "id": "d605662f",
   "metadata": {},
   "source": [
    "## Variable case sensitivity"
   ]
  },
  {
   "cell_type": "code",
   "execution_count": 11,
   "id": "26ebaf8b",
   "metadata": {},
   "outputs": [
    {
     "name": "stdout",
     "output_type": "stream",
     "text": [
      "Chocolate\n",
      "Raspberry Ripple\n"
     ]
    }
   ],
   "source": [
    "Y = 'Raspberry Ripple'\n",
    "\n",
    "print(y)\n",
    "print(Y)"
   ]
  },
  {
   "cell_type": "markdown",
   "id": "0742034f",
   "metadata": {},
   "source": [
    "## Assigning multiple values to multiple variables"
   ]
  },
  {
   "cell_type": "code",
   "execution_count": 20,
   "id": "5442a3f9",
   "metadata": {},
   "outputs": [
    {
     "name": "stdout",
     "output_type": "stream",
     "text": [
      "Chocolate\n",
      "Vanilla\n",
      "Rocky Road\n"
     ]
    }
   ],
   "source": [
    "# 'x' will be assigned 'Chocolate'\n",
    "# 'y' will be assigned 'Vanilla'\n",
    "# 'z' will be assigned 'Rocky Road'\n",
    "x,y,z = 'Chocolate','Vanilla','Rocky Road'\n",
    "\n",
    "print(x)\n",
    "print(y)\n",
    "print(z)"
   ]
  },
  {
   "cell_type": "markdown",
   "id": "4da0b251",
   "metadata": {},
   "source": [
    "## Assigning multiple variables to one value"
   ]
  },
  {
   "cell_type": "code",
   "execution_count": 21,
   "id": "6850931d",
   "metadata": {},
   "outputs": [
    {
     "name": "stdout",
     "output_type": "stream",
     "text": [
      "Root Beer Float\n",
      "Root Beer Float\n",
      "Root Beer Float\n"
     ]
    }
   ],
   "source": [
    "# assigning multiple variables to one value\n",
    "x = y = z = 'Root Beer Float'\n",
    "print(x)\n",
    "print(y)\n",
    "print(z)"
   ]
  },
  {
   "cell_type": "markdown",
   "id": "e367a650",
   "metadata": {},
   "source": [
    "## Creating a list"
   ]
  },
  {
   "cell_type": "code",
   "execution_count": 23,
   "id": "fe4d7a58",
   "metadata": {},
   "outputs": [
    {
     "name": "stdout",
     "output_type": "stream",
     "text": [
      "['Chocolate', 'Vanilla', 'Rocky Road']\n"
     ]
    }
   ],
   "source": [
    "# creating a list\n",
    "# within the variable 'ice_cream' we have 3 values\n",
    "ice_cream = ['Chocolate','Vanilla','Rocky Road']\n",
    "print(ice_cream)"
   ]
  },
  {
   "cell_type": "markdown",
   "id": "4bf5ebc1",
   "metadata": {},
   "source": [
    "## Assigning values from a list to variables"
   ]
  },
  {
   "cell_type": "code",
   "execution_count": 25,
   "id": "89d0c520",
   "metadata": {},
   "outputs": [
    {
     "name": "stdout",
     "output_type": "stream",
     "text": [
      "Chocolate\n",
      "Vanilla\n",
      "Rocky Road\n"
     ]
    }
   ],
   "source": [
    "# assigning values from a list to variables\n",
    "x,y,z = ice_cream\n",
    "print(x)\n",
    "print(y)\n",
    "print(z)"
   ]
  },
  {
   "cell_type": "markdown",
   "id": "81512184",
   "metadata": {},
   "source": [
    "## Camel case"
   ]
  },
  {
   "cell_type": "code",
   "execution_count": 26,
   "id": "1bbfea7e",
   "metadata": {},
   "outputs": [
    {
     "name": "stdout",
     "output_type": "stream",
     "text": [
      "Vanilla Swirl\n"
     ]
    }
   ],
   "source": [
    "# camel case\n",
    "# test variable case\n",
    "\n",
    "testVariableCase = 'Vanilla Swirl'\n",
    "print(testVariableCase)"
   ]
  },
  {
   "cell_type": "markdown",
   "id": "be4d34f7",
   "metadata": {},
   "source": [
    "## Pascal case"
   ]
  },
  {
   "cell_type": "code",
   "execution_count": 27,
   "id": "bf3b2991",
   "metadata": {},
   "outputs": [
    {
     "name": "stdout",
     "output_type": "stream",
     "text": [
      "Chocolate Swirl\n"
     ]
    }
   ],
   "source": [
    "# pascal case\n",
    "# test variable case\n",
    "\n",
    "TestVariableCase = 'Chocolate Swirl'\n",
    "print(TestVariableCase)"
   ]
  },
  {
   "cell_type": "markdown",
   "id": "262248cc",
   "metadata": {},
   "source": [
    "## Snake case (USE THIS!)"
   ]
  },
  {
   "cell_type": "code",
   "execution_count": 28,
   "id": "8155f144",
   "metadata": {},
   "outputs": [
    {
     "name": "stdout",
     "output_type": "stream",
     "text": [
      "Banana Swirl\n"
     ]
    }
   ],
   "source": [
    "# snake case\n",
    "# test variable case\n",
    "\n",
    "test_variable_case = 'Banana Swirl'\n",
    "print(test_variable_case)"
   ]
  },
  {
   "cell_type": "markdown",
   "id": "f2b1cb8a",
   "metadata": {},
   "source": [
    "## Concatenating values within in a variable"
   ]
  },
  {
   "cell_type": "code",
   "execution_count": 39,
   "id": "162afcab",
   "metadata": {},
   "outputs": [
    {
     "name": "stdout",
     "output_type": "stream",
     "text": [
      "Ice Cream is my favorite.\n",
      "5\n"
     ]
    }
   ],
   "source": [
    "# concatenating a string to string within a variable\n",
    "x = 'Ice Cream is my favorite' + '.'\n",
    "print(x)\n",
    "\n",
    "# adding int's together within a variable\n",
    "z = 3 + 2\n",
    "print(z)"
   ]
  },
  {
   "cell_type": "markdown",
   "id": "9d98babb",
   "metadata": {},
   "source": [
    "## Concatenating multiple values within a 'print' statement"
   ]
  },
  {
   "cell_type": "code",
   "execution_count": 36,
   "id": "0aac1b5b",
   "metadata": {},
   "outputs": [
    {
     "name": "stdout",
     "output_type": "stream",
     "text": [
      "Ice Cream is my favourite.\n"
     ]
    }
   ],
   "source": [
    "# printing several string values in one 'print' statement\n",
    "x = 'Ice Cream'\n",
    "y = ' is'\n",
    "z = ' my favourite.'\n",
    "\n",
    "print(x+y+z)"
   ]
  },
  {
   "cell_type": "code",
   "execution_count": 38,
   "id": "791521d9",
   "metadata": {},
   "outputs": [
    {
     "name": "stdout",
     "output_type": "stream",
     "text": [
      "6\n"
     ]
    }
   ],
   "source": [
    "# printing the output of a int calculation in one 'print' statement\n",
    "x = 1\n",
    "y = 2\n",
    "z = 3\n",
    "\n",
    "print(x+y+z)"
   ]
  },
  {
   "cell_type": "code",
   "execution_count": 41,
   "id": "484d2d9a",
   "metadata": {},
   "outputs": [
    {
     "ename": "TypeError",
     "evalue": "can only concatenate str (not \"int\") to str",
     "output_type": "error",
     "traceback": [
      "\u001b[1;31m---------------------------------------------------------------------------\u001b[0m",
      "\u001b[1;31mTypeError\u001b[0m                                 Traceback (most recent call last)",
      "Cell \u001b[1;32mIn[41], line 2\u001b[0m\n\u001b[0;32m      1\u001b[0m \u001b[38;5;66;03m# cannot add a string & int together within a variable\u001b[39;00m\n\u001b[1;32m----> 2\u001b[0m y \u001b[38;5;241m=\u001b[39m \u001b[38;5;124;43m'\u001b[39;49m\u001b[38;5;124;43mIce Cream is my favourite\u001b[39;49m\u001b[38;5;124;43m'\u001b[39;49m\u001b[43m \u001b[49m\u001b[38;5;241;43m+\u001b[39;49m\u001b[43m \u001b[49m\u001b[38;5;241;43m2\u001b[39;49m\n\u001b[0;32m      3\u001b[0m \u001b[38;5;28mprint\u001b[39m(y)\n",
      "\u001b[1;31mTypeError\u001b[0m: can only concatenate str (not \"int\") to str"
     ]
    }
   ],
   "source": [
    "# cannot add a string & int together within a variable\n",
    "y = 'Ice Cream is my favourite' + 2\n",
    "print(y)"
   ]
  },
  {
   "cell_type": "code",
   "execution_count": 42,
   "id": "608fc359",
   "metadata": {},
   "outputs": [
    {
     "name": "stdout",
     "output_type": "stream",
     "text": [
      "Ice Cream 2\n"
     ]
    }
   ],
   "source": [
    "# can however combine a string & int within a print statement by seperating both values\n",
    "x = 'Ice Cream'\n",
    "y = 2\n",
    "\n",
    "print(x,y)"
   ]
  }
 ],
 "metadata": {
  "kernelspec": {
   "display_name": "Python 3 (ipykernel)",
   "language": "python",
   "name": "python3"
  },
  "language_info": {
   "codemirror_mode": {
    "name": "ipython",
    "version": 3
   },
   "file_extension": ".py",
   "mimetype": "text/x-python",
   "name": "python",
   "nbconvert_exporter": "python",
   "pygments_lexer": "ipython3",
   "version": "3.9.16"
  }
 },
 "nbformat": 4,
 "nbformat_minor": 5
}
