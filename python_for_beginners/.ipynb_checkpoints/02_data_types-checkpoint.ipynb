{
 "cells": [
  {
   "cell_type": "markdown",
   "id": "0f18cb21",
   "metadata": {},
   "source": [
    "## Data Types"
   ]
  },
  {
   "cell_type": "markdown",
   "id": "674a54ec",
   "metadata": {},
   "source": [
    "### https://www.youtube.com/watch?v=ppsCxnNm-JI&list=PLUaB-1hjhk8GHKfndKjyDMHPg_HlQ4vpK&index=3&ab_channel=AlexTheAnalyst"
   ]
  },
  {
   "cell_type": "markdown",
   "id": "847a535a",
   "metadata": {},
   "source": [
    "## Numeric data types"
   ]
  },
  {
   "cell_type": "markdown",
   "id": "2de05037",
   "metadata": {},
   "source": [
    "### Integers (int)"
   ]
  },
  {
   "cell_type": "code",
   "execution_count": null,
   "id": "fc9b42c9",
   "metadata": {},
   "outputs": [],
   "source": [
    "# an integer data type is the number zero, a positive natural number or a negative integer with a minus sign"
   ]
  },
  {
   "cell_type": "code",
   "execution_count": 9,
   "id": "5709c2b2",
   "metadata": {},
   "outputs": [
    {
     "data": {
      "text/plain": [
       "int"
      ]
     },
     "execution_count": 9,
     "metadata": {},
     "output_type": "execute_result"
    }
   ],
   "source": [
    "# simple example\n",
    "type(12)"
   ]
  },
  {
   "cell_type": "code",
   "execution_count": 10,
   "id": "f25061be",
   "metadata": {},
   "outputs": [
    {
     "data": {
      "text/plain": [
       "int"
      ]
     },
     "execution_count": 10,
     "metadata": {},
     "output_type": "execute_result"
    }
   ],
   "source": [
    "# regardless of whether negative or positive it's still an int\n",
    "type(-12)"
   ]
  },
  {
   "cell_type": "code",
   "execution_count": 11,
   "id": "1e6398f5",
   "metadata": {},
   "outputs": [
    {
     "data": {
      "text/plain": [
       "int"
      ]
     },
     "execution_count": 11,
     "metadata": {},
     "output_type": "execute_result"
    }
   ],
   "source": [
    "# adding int's together the result will also be an int\n",
    "type(-12 + 100)"
   ]
  },
  {
   "cell_type": "markdown",
   "id": "a7e16411",
   "metadata": {},
   "source": [
    "### Floats"
   ]
  },
  {
   "cell_type": "code",
   "execution_count": null,
   "id": "1238f139",
   "metadata": {},
   "outputs": [],
   "source": [
    "# a float data type represents a floating-point or decimal number "
   ]
  },
  {
   "cell_type": "code",
   "execution_count": 13,
   "id": "dc1a023b",
   "metadata": {},
   "outputs": [
    {
     "data": {
      "text/plain": [
       "float"
      ]
     },
     "execution_count": 13,
     "metadata": {},
     "output_type": "execute_result"
    }
   ],
   "source": [
    "# when the number is no longer whole number but a decimal number it's data type is a 'float'\n",
    "type(12 + 10.25)"
   ]
  },
  {
   "cell_type": "markdown",
   "id": "4c753535",
   "metadata": {},
   "source": [
    "### Complex (not often used, ignore for now)"
   ]
  },
  {
   "cell_type": "code",
   "execution_count": null,
   "id": "5108a471",
   "metadata": {},
   "outputs": [],
   "source": [
    "# a complex data type is a transformation data type that represents multiple data values in a single column position\n",
    "# 'j' is the only str value that will work as that imaginary number"
   ]
  },
  {
   "cell_type": "code",
   "execution_count": 14,
   "id": "33ead104",
   "metadata": {},
   "outputs": [
    {
     "data": {
      "text/plain": [
       "complex"
      ]
     },
     "execution_count": 14,
     "metadata": {},
     "output_type": "execute_result"
    }
   ],
   "source": [
    "type(12 + 3j)"
   ]
  },
  {
   "cell_type": "markdown",
   "id": "91e344f8",
   "metadata": {},
   "source": [
    "## Boolean data types"
   ]
  },
  {
   "cell_type": "code",
   "execution_count": null,
   "id": "9daf30ab",
   "metadata": {},
   "outputs": [],
   "source": [
    "# booleans represent one of two values: true or false"
   ]
  },
  {
   "cell_type": "code",
   "execution_count": 16,
   "id": "a8bf6c69",
   "metadata": {},
   "outputs": [
    {
     "data": {
      "text/plain": [
       "bool"
      ]
     },
     "execution_count": 16,
     "metadata": {},
     "output_type": "execute_result"
    }
   ],
   "source": [
    "# true needs to be written as 'True'\n",
    "type(True)"
   ]
  },
  {
   "cell_type": "code",
   "execution_count": 17,
   "id": "f7de3e27",
   "metadata": {},
   "outputs": [
    {
     "data": {
      "text/plain": [
       "bool"
      ]
     },
     "execution_count": 17,
     "metadata": {},
     "output_type": "execute_result"
    }
   ],
   "source": [
    "# false needs to be written as 'False'\n",
    "type(False)"
   ]
  },
  {
   "cell_type": "code",
   "execution_count": 18,
   "id": "e2e65f0b",
   "metadata": {},
   "outputs": [
    {
     "data": {
      "text/plain": [
       "bool"
      ]
     },
     "execution_count": 18,
     "metadata": {},
     "output_type": "execute_result"
    }
   ],
   "source": [
    "# can be used with comparison operators\n",
    "type(1 > 5)"
   ]
  },
  {
   "cell_type": "code",
   "execution_count": 19,
   "id": "dd3aa31a",
   "metadata": {},
   "outputs": [
    {
     "data": {
      "text/plain": [
       "False"
      ]
     },
     "execution_count": 19,
     "metadata": {},
     "output_type": "execute_result"
    }
   ],
   "source": [
    "# output is a bool\n",
    "1 > 5"
   ]
  },
  {
   "cell_type": "code",
   "execution_count": 20,
   "id": "a008ab43",
   "metadata": {},
   "outputs": [
    {
     "data": {
      "text/plain": [
       "True"
      ]
     },
     "execution_count": 20,
     "metadata": {},
     "output_type": "execute_result"
    }
   ],
   "source": [
    "# output is a bool\n",
    "1 == 1"
   ]
  },
  {
   "cell_type": "markdown",
   "id": "af6c55fe",
   "metadata": {},
   "source": [
    "## Sequence data types"
   ]
  },
  {
   "cell_type": "markdown",
   "id": "d36f0cfe",
   "metadata": {},
   "source": [
    "### Strings (str)"
   ]
  },
  {
   "cell_type": "code",
   "execution_count": 22,
   "id": "021476b9",
   "metadata": {},
   "outputs": [],
   "source": [
    "# A string is a data type used in programming, that is used to represent text rather than numbers \n",
    "# A string is a sequence of characters and can contain letters, numbers, symbols and even spaces\n",
    "# Strings in python are surrounded by either single quotation marks, or double quotation marks\n",
    "# 'hello' is the same as \"hello\""
   ]
  },
  {
   "cell_type": "code",
   "execution_count": 23,
   "id": "7396eaa3",
   "metadata": {},
   "outputs": [
    {
     "data": {
      "text/plain": [
       "'Single Quote'"
      ]
     },
     "execution_count": 23,
     "metadata": {},
     "output_type": "execute_result"
    }
   ],
   "source": [
    "# single quote\n",
    "'Single Quote'"
   ]
  },
  {
   "cell_type": "code",
   "execution_count": 24,
   "id": "bdc20e90",
   "metadata": {},
   "outputs": [
    {
     "data": {
      "text/plain": [
       "'Double Quote'"
      ]
     },
     "execution_count": 24,
     "metadata": {},
     "output_type": "execute_result"
    }
   ],
   "source": [
    "# double quote\n",
    "\"Double Quote\""
   ]
  },
  {
   "cell_type": "code",
   "execution_count": 27,
   "id": "e1e29107",
   "metadata": {},
   "outputs": [],
   "source": [
    "# triple quote - note that the output will look strange so we can assign it to a variable in the next step\n",
    "\"\"\"\n",
    "The ice cream vanquished\n",
    "my longing for sweets,\n",
    "upon this diet I look away,\n",
    "it no longer exists on this day.\n",
    "\"\"\""
   ]
  },
  {
   "cell_type": "code",
   "execution_count": 29,
   "id": "0465839d",
   "metadata": {},
   "outputs": [
    {
     "name": "stdout",
     "output_type": "stream",
     "text": [
      "\n",
      "The ice cream vanquished\n",
      "my longing for sweets,\n",
      "upon this diet I look away,\n",
      "it no longer exists on this day.\n",
      "\n"
     ]
    }
   ],
   "source": [
    "# assigning the str to the variable 'multiline'\n",
    "multiline = \"\"\"\n",
    "The ice cream vanquished\n",
    "my longing for sweets,\n",
    "upon this diet I look away,\n",
    "it no longer exists on this day.\n",
    "\"\"\"\n",
    "\n",
    "print(multiline)"
   ]
  },
  {
   "cell_type": "code",
   "execution_count": 30,
   "id": "92570a00",
   "metadata": {},
   "outputs": [
    {
     "data": {
      "text/plain": [
       "\"I've always wanted to eat a gallon of ice cream.\""
      ]
     },
     "execution_count": 30,
     "metadata": {},
     "output_type": "execute_result"
    }
   ],
   "source": [
    "# whenever we have a single quote within a str, we need to use double quotes or else it will error\n",
    "\"I've always wanted to eat a gallon of ice cream.\""
   ]
  },
  {
   "cell_type": "code",
   "execution_count": 32,
   "id": "21e48af0",
   "metadata": {},
   "outputs": [
    {
     "data": {
      "text/plain": [
       "\"\\nI've always wanted to eat a gallon of ice cream.\\n\""
      ]
     },
     "execution_count": 32,
     "metadata": {},
     "output_type": "execute_result"
    }
   ],
   "source": [
    "# if you want to use double quotes within a str, we need to use triple quotes or else it will error\n",
    "\"\"\"\n",
    "I've always wanted to eat a gallon of ice cream.\n",
    "\"\"\""
   ]
  },
  {
   "cell_type": "markdown",
   "id": "94cad5a6",
   "metadata": {},
   "source": [
    "### Strings Indexes"
   ]
  },
  {
   "cell_type": "code",
   "execution_count": 44,
   "id": "26c0d742",
   "metadata": {},
   "outputs": [
    {
     "name": "stdout",
     "output_type": "stream",
     "text": [
      "Hello\n",
      "ello\n",
      "ll\n",
      "o\n",
      "l\n"
     ]
    }
   ],
   "source": [
    "# strings are indexed, the index starts at 0, so the first character will = 0 \n",
    "# specifying the index position will return the characters within the range you specify\n",
    "a = 'Hello World!'\n",
    "\n",
    "print(a[:5])\n",
    "print(a[1:5])\n",
    "print(a[2:4])\n",
    "\n",
    "# it doesn't have to be a range, can just be single position which starts from the beginning or the end\n",
    "print(a[4])\n",
    "print(a[-3])"
   ]
  },
  {
   "cell_type": "markdown",
   "id": "8d4aa85f",
   "metadata": {},
   "source": [
    "### Multiplying & adding strings"
   ]
  },
  {
   "cell_type": "code",
   "execution_count": 48,
   "id": "c71756da",
   "metadata": {},
   "outputs": [
    {
     "data": {
      "text/plain": [
       "'Hello World!Hello World!'"
      ]
     },
     "execution_count": 48,
     "metadata": {},
     "output_type": "execute_result"
    }
   ],
   "source": [
    "# mutliplication of strings\n",
    "a = 'Hello World!'\n",
    "a * 3"
   ]
  },
  {
   "cell_type": "code",
   "execution_count": 49,
   "id": "8d33d186",
   "metadata": {},
   "outputs": [
    {
     "data": {
      "text/plain": [
       "'Hello World!Hello World!'"
      ]
     },
     "execution_count": 49,
     "metadata": {},
     "output_type": "execute_result"
    }
   ],
   "source": [
    "# addition of strings\n",
    "a + a"
   ]
  },
  {
   "cell_type": "markdown",
   "id": "c5380f50",
   "metadata": {},
   "source": [
    "## Lists"
   ]
  },
  {
   "cell_type": "code",
   "execution_count": null,
   "id": "0592b345",
   "metadata": {},
   "outputs": [],
   "source": [
    "# lists are used to store multiple items in a single variable\n",
    "# lists are one of 4 built-in data types in Python used to store collections of data, \n",
    "# the other 3 are Tuple, Set, and Dictionary, all with different qualities and usage\n",
    "# you can have any data type within a list, int, str, additional lists etc"
   ]
  },
  {
   "cell_type": "code",
   "execution_count": 51,
   "id": "6779e0ea",
   "metadata": {},
   "outputs": [
    {
     "data": {
      "text/plain": [
       "[1, 2, 3]"
      ]
     },
     "execution_count": 51,
     "metadata": {},
     "output_type": "execute_result"
    }
   ],
   "source": [
    "# creating a list we must use '[]'\n",
    "# this code will create a list with 3 seperate values\n",
    "# the comma's in the output confirm that they are seperate values\n",
    "\n",
    "[1,2,3]"
   ]
  },
  {
   "cell_type": "code",
   "execution_count": null,
   "id": "fdcf2624",
   "metadata": {},
   "outputs": [],
   "source": [
    "# lists are indexed just like strings, taking the above example\n",
    "# position 0 = 1\n",
    "# position 1 = 2\n",
    "# position 2 = 3"
   ]
  },
  {
   "cell_type": "code",
   "execution_count": 52,
   "id": "bdc2f356",
   "metadata": {},
   "outputs": [
    {
     "data": {
      "text/plain": [
       "['Cookie Dough', 'Strawberry', 'Chocolate']"
      ]
     },
     "execution_count": 52,
     "metadata": {},
     "output_type": "execute_result"
    }
   ],
   "source": [
    "# creating a list with str values\n",
    "\n",
    "['Cookie Dough','Strawberry','Chocolate']"
   ]
  },
  {
   "cell_type": "code",
   "execution_count": 54,
   "id": "02b6a8b0",
   "metadata": {},
   "outputs": [
    {
     "data": {
      "text/plain": [
       "['Vanilla', 3, ['Scoops', 'Spoon'], True]"
      ]
     },
     "execution_count": 54,
     "metadata": {},
     "output_type": "execute_result"
    }
   ],
   "source": [
    "# creating a list with different data types\n",
    "# this example has a str, int, list & bool in a single list\n",
    "\n",
    "['Vanilla', 3, ['Scoops','Spoon'],True]"
   ]
  },
  {
   "cell_type": "markdown",
   "id": "48d9f67e",
   "metadata": {},
   "source": [
    "### Editing lists"
   ]
  },
  {
   "cell_type": "code",
   "execution_count": 57,
   "id": "66651a6b",
   "metadata": {},
   "outputs": [
    {
     "data": {
      "text/plain": [
       "['Cookie Dough', 'Strawberry', 'Chocolate', 'Salted Caramel']"
      ]
     },
     "execution_count": 57,
     "metadata": {},
     "output_type": "execute_result"
    }
   ],
   "source": [
    "# lists are changeable, we can alter them once they've been created\n",
    "ice_cream = ['Cookie Dough','Strawberry','Chocolate']\n",
    "\n",
    "# appending an additional value to the list\n",
    "ice_cream.append('Salted Caramel')\n",
    "\n",
    "# viewing the output of the list\n",
    "ice_cream"
   ]
  },
  {
   "cell_type": "code",
   "execution_count": 59,
   "id": "f686b913",
   "metadata": {},
   "outputs": [
    {
     "data": {
      "text/plain": [
       "'Cookie Dough'"
      ]
     },
     "execution_count": 59,
     "metadata": {},
     "output_type": "execute_result"
    }
   ],
   "source": [
    "# viewing the index value within a list\n",
    "ice_cream[0]"
   ]
  },
  {
   "cell_type": "code",
   "execution_count": 61,
   "id": "124f8499",
   "metadata": {},
   "outputs": [
    {
     "data": {
      "text/plain": [
       "['Butter Pecan', 'Strawberry', 'Chocolate', 'Salted Caramel']"
      ]
     },
     "execution_count": 61,
     "metadata": {},
     "output_type": "execute_result"
    }
   ],
   "source": [
    "# changing the value within a list using indexing\n",
    "ice_cream[0] = 'Butter Pecan'\n",
    "\n",
    "ice_cream"
   ]
  },
  {
   "cell_type": "code",
   "execution_count": 68,
   "id": "d0485b36",
   "metadata": {},
   "outputs": [
    {
     "data": {
      "text/plain": [
       "'Spoon'"
      ]
     },
     "execution_count": 68,
     "metadata": {},
     "output_type": "execute_result"
    }
   ],
   "source": [
    "# nested list is a list within a list\n",
    "\n",
    "nest_list = ['Vanilla', 3, ['Scoops','Spoon'],True]"
   ]
  },
  {
   "cell_type": "code",
   "execution_count": 66,
   "id": "4b028cb3",
   "metadata": {},
   "outputs": [
    {
     "data": {
      "text/plain": [
       "['Scoops', 'Spoon']"
      ]
     },
     "execution_count": 66,
     "metadata": {},
     "output_type": "execute_result"
    }
   ],
   "source": [
    "# using index we can see the values within this list\n",
    "nest_list[2]"
   ]
  },
  {
   "cell_type": "code",
   "execution_count": 73,
   "id": "1aad8721",
   "metadata": {},
   "outputs": [
    {
     "data": {
      "text/plain": [
       "'Spoon'"
      ]
     },
     "execution_count": 73,
     "metadata": {},
     "output_type": "execute_result"
    }
   ],
   "source": [
    "# using multiple indexes we can see specific values within the nested list\n",
    "# this can go on and on\n",
    "nest_list[2][1]"
   ]
  },
  {
   "cell_type": "markdown",
   "id": "1093aae7",
   "metadata": {},
   "source": [
    "## Tuples"
   ]
  },
  {
   "cell_type": "code",
   "execution_count": null,
   "id": "50120505",
   "metadata": {},
   "outputs": [],
   "source": [
    "# tuple's & lists are very similar, biggest difference between a tuple & a list is that a tupple is immutable\n",
    "# it cannot be modified or changed after it's created\n",
    "# typically people will use tuples when a value is never going to change, e.g. city name, country, location"
   ]
  },
  {
   "cell_type": "code",
   "execution_count": 76,
   "id": "6375830c",
   "metadata": {},
   "outputs": [
    {
     "data": {
      "text/plain": [
       "tuple"
      ]
     },
     "execution_count": 76,
     "metadata": {},
     "output_type": "execute_result"
    }
   ],
   "source": [
    "# creating a list we must use '()'\n",
    "# this code will create a tuple with 3 seperate values\n",
    "# the comma's in the output confirm that they are seperate values\n",
    "\n",
    "tuple_scoops = (1,2,3,2,1)\n",
    "\n",
    "# confirming the data type\n",
    "type(tuple_scoops)"
   ]
  },
  {
   "cell_type": "code",
   "execution_count": 77,
   "id": "d2459db7",
   "metadata": {},
   "outputs": [
    {
     "data": {
      "text/plain": [
       "1"
      ]
     },
     "execution_count": 77,
     "metadata": {},
     "output_type": "execute_result"
    }
   ],
   "source": [
    "# tuples are indexed like strings & lists\n",
    "\n",
    "tuple_scoops[0]"
   ]
  },
  {
   "cell_type": "code",
   "execution_count": 78,
   "id": "ff73f42d",
   "metadata": {},
   "outputs": [
    {
     "ename": "AttributeError",
     "evalue": "'tuple' object has no attribute 'append'",
     "output_type": "error",
     "traceback": [
      "\u001b[1;31m---------------------------------------------------------------------------\u001b[0m",
      "\u001b[1;31mAttributeError\u001b[0m                            Traceback (most recent call last)",
      "Cell \u001b[1;32mIn[78], line 3\u001b[0m\n\u001b[0;32m      1\u001b[0m \u001b[38;5;66;03m# tuples cannot be edited once created\u001b[39;00m\n\u001b[1;32m----> 3\u001b[0m \u001b[43mtuple_scoops\u001b[49m\u001b[38;5;241;43m.\u001b[39;49m\u001b[43mappend\u001b[49m(\u001b[38;5;241m3\u001b[39m)\n",
      "\u001b[1;31mAttributeError\u001b[0m: 'tuple' object has no attribute 'append'"
     ]
    }
   ],
   "source": [
    "# tuples cannot be edited once created, this wil result in an error\n",
    "\n",
    "tuple_scoops.append(3)"
   ]
  },
  {
   "cell_type": "markdown",
   "id": "9a13cbf5",
   "metadata": {},
   "source": [
    "## Sets"
   ]
  },
  {
   "cell_type": "code",
   "execution_count": null,
   "id": "c8c75db4",
   "metadata": {},
   "outputs": [],
   "source": [
    "# a set is somewhat similar to a list or a tuple but they don't have any duplicate elements\n",
    "# also the values within a set cannot be accessed using an index because it doesn't have an index because it's unordered"
   ]
  },
  {
   "cell_type": "code",
   "execution_count": 79,
   "id": "a1339782",
   "metadata": {},
   "outputs": [],
   "source": [
    "# creating a set we must use '{}'\n",
    "# this code will create a set with 3 seperate values\n",
    "# the comma's in the output confirm that they are seperate values\n",
    "\n",
    "daily_pints = {1,2,3}"
   ]
  },
  {
   "cell_type": "code",
   "execution_count": 80,
   "id": "e58b794e",
   "metadata": {},
   "outputs": [
    {
     "data": {
      "text/plain": [
       "set"
      ]
     },
     "execution_count": 80,
     "metadata": {},
     "output_type": "execute_result"
    }
   ],
   "source": [
    "# verifying the type\n",
    "type(daily_pints)"
   ]
  },
  {
   "cell_type": "code",
   "execution_count": 83,
   "id": "7819e21e",
   "metadata": {},
   "outputs": [
    {
     "name": "stdout",
     "output_type": "stream",
     "text": [
      "{1, 2, 3}\n",
      "{1, 2, 3, 4, 5, 6, 31}\n"
     ]
    }
   ],
   "source": [
    "# viewing the values within a set\n",
    "print(daily_pints)\n",
    "\n",
    "# when printing an output for a set it will only return the unique values \n",
    "daily_pints_log = {1,2,31,2,3,4,1,2,5,6,3,2}\n",
    "\n",
    "print(daily_pints_log)"
   ]
  },
  {
   "cell_type": "markdown",
   "id": "a98768ba",
   "metadata": {},
   "source": [
    "#### Use case - converting a list or tuple to a set to obtain the unique values, then comparing that against another set"
   ]
  },
  {
   "cell_type": "code",
   "execution_count": 84,
   "id": "dd557f50",
   "metadata": {},
   "outputs": [],
   "source": [
    "# creating another variable for comparison purposes\n",
    "\n",
    "wifes_daily_pints_log = {1,4,2,5,6252,2,52352}"
   ]
  },
  {
   "cell_type": "code",
   "execution_count": 86,
   "id": "2cdc2590",
   "metadata": {},
   "outputs": [
    {
     "name": "stdout",
     "output_type": "stream",
     "text": [
      "{52352, 1, 2, 3, 4, 5, 6, 6252, 31}\n"
     ]
    }
   ],
   "source": [
    "# combining these sets together using the '|' will show the unique values in each of the 2 sets\n",
    "print(daily_pints_log | wifes_daily_pints_log)"
   ]
  },
  {
   "cell_type": "code",
   "execution_count": 87,
   "id": "76dc73c9",
   "metadata": {},
   "outputs": [
    {
     "name": "stdout",
     "output_type": "stream",
     "text": [
      "{1, 2, 4, 5}\n"
     ]
    }
   ],
   "source": [
    "# combining these sets together using the '&' will show the unique values that both sets contain\n",
    "print(daily_pints_log & wifes_daily_pints_log)"
   ]
  },
  {
   "cell_type": "code",
   "execution_count": 88,
   "id": "f57aae7d",
   "metadata": {},
   "outputs": [
    {
     "name": "stdout",
     "output_type": "stream",
     "text": [
      "{3, 6, 31}\n"
     ]
    }
   ],
   "source": [
    "# combining these sets together using the '-' will show the values in the 'daily_pints_log', subtracting all the values that\n",
    "# are the same in 'wifes_daily_pints_log' & leaving the unique values in 'daily_pints_log'\n",
    "print(daily_pints_log - wifes_daily_pints_log)"
   ]
  },
  {
   "cell_type": "code",
   "execution_count": 89,
   "id": "9fc3d2ee",
   "metadata": {},
   "outputs": [
    {
     "name": "stdout",
     "output_type": "stream",
     "text": [
      "{52352, 6252}\n"
     ]
    }
   ],
   "source": [
    "# this can be reversed with the same logic applied\n",
    "print(wifes_daily_pints_log - daily_pints_log)"
   ]
  },
  {
   "cell_type": "code",
   "execution_count": 90,
   "id": "5aadeab1",
   "metadata": {},
   "outputs": [
    {
     "name": "stdout",
     "output_type": "stream",
     "text": [
      "{52352, 3, 6, 6252, 31}\n"
     ]
    }
   ],
   "source": [
    "# combining these sets together using the '^' will show if a value is in one or the other but not in both\n",
    "print(daily_pints_log ^ wifes_daily_pints_log)"
   ]
  },
  {
   "cell_type": "markdown",
   "id": "d8e51649",
   "metadata": {},
   "source": [
    "## Dictionaries"
   ]
  },
  {
   "cell_type": "code",
   "execution_count": null,
   "id": "961632fe",
   "metadata": {},
   "outputs": [],
   "source": [
    "# within a data type we have a key/value pair, we have a key which indicates what that value is attributable to"
   ]
  },
  {
   "cell_type": "code",
   "execution_count": 92,
   "id": "b187a060",
   "metadata": {},
   "outputs": [],
   "source": [
    "# creating a set we must use '{}', within each comma sepearted value(s) we specific the key & value pair\n",
    "# the comma's in the output confirm that they are seperate values\n",
    "# the below adds a string, int & list to this dictionary\n",
    "\n",
    "dict_cream ={'name': 'Alex Freberg', 'weekly intake': 5, 'favourite ice creams': ['MCC','Chocolate']}"
   ]
  },
  {
   "cell_type": "code",
   "execution_count": 93,
   "id": "dea083c4",
   "metadata": {},
   "outputs": [
    {
     "data": {
      "text/plain": [
       "dict"
      ]
     },
     "execution_count": 93,
     "metadata": {},
     "output_type": "execute_result"
    }
   ],
   "source": [
    "# checking the type\n",
    "type(dict_cream)"
   ]
  },
  {
   "cell_type": "code",
   "execution_count": 94,
   "id": "ae82963b",
   "metadata": {},
   "outputs": [
    {
     "name": "stdout",
     "output_type": "stream",
     "text": [
      "{'name': 'Alex Freberg', 'weekly intake': 5, 'favourite ice creams': ['MCC', 'Chocolate']}\n"
     ]
    }
   ],
   "source": [
    "# printing the output\n",
    "print(dict_cream)"
   ]
  },
  {
   "cell_type": "code",
   "execution_count": 95,
   "id": "5666d701",
   "metadata": {},
   "outputs": [
    {
     "data": {
      "text/plain": [
       "dict_values(['Alex Freberg', 5, ['MCC', 'Chocolate']])"
      ]
     },
     "execution_count": 95,
     "metadata": {},
     "output_type": "execute_result"
    }
   ],
   "source": [
    "# viewing the values within a dictionary\n",
    "dict_cream.values()"
   ]
  },
  {
   "cell_type": "code",
   "execution_count": 96,
   "id": "5a12fd32",
   "metadata": {},
   "outputs": [
    {
     "data": {
      "text/plain": [
       "dict_keys(['name', 'weekly intake', 'favourite ice creams'])"
      ]
     },
     "execution_count": 96,
     "metadata": {},
     "output_type": "execute_result"
    }
   ],
   "source": [
    "# viewing the keys within a dictionary\n",
    "dict_cream.keys()"
   ]
  },
  {
   "cell_type": "code",
   "execution_count": 97,
   "id": "8a93b69b",
   "metadata": {},
   "outputs": [
    {
     "data": {
      "text/plain": [
       "dict_items([('name', 'Alex Freberg'), ('weekly intake', 5), ('favourite ice creams', ['MCC', 'Chocolate'])])"
      ]
     },
     "execution_count": 97,
     "metadata": {},
     "output_type": "execute_result"
    }
   ],
   "source": [
    "# viewing the items within a dictionary\n",
    "# items are the key/value pair within a dictionary\n",
    "dict_cream.items()"
   ]
  },
  {
   "cell_type": "markdown",
   "id": "505e248b",
   "metadata": {},
   "source": [
    "### Calling a dictionary is different, you must call it by the key"
   ]
  },
  {
   "cell_type": "code",
   "execution_count": 98,
   "id": "1c1aba02",
   "metadata": {},
   "outputs": [
    {
     "data": {
      "text/plain": [
       "'Alex Freberg'"
      ]
     },
     "execution_count": 98,
     "metadata": {},
     "output_type": "execute_result"
    }
   ],
   "source": [
    "# calling by the 'name' key\n",
    "dict_cream['name']"
   ]
  },
  {
   "cell_type": "code",
   "execution_count": 101,
   "id": "36d9a92c",
   "metadata": {},
   "outputs": [
    {
     "name": "stdout",
     "output_type": "stream",
     "text": [
      "{'name': 'Christine Freberg', 'weekly intake': 5, 'favourite ice creams': ['MCC', 'Chocolate']}\n"
     ]
    }
   ],
   "source": [
    "# updating information within a dictionary\n",
    "dict_cream['name'] = 'Christine Freberg'\n",
    "print(dict_cream)"
   ]
  },
  {
   "cell_type": "code",
   "execution_count": 103,
   "id": "0e4d873b",
   "metadata": {},
   "outputs": [
    {
     "name": "stdout",
     "output_type": "stream",
     "text": [
      "{'name': 'Alex Freberg', 'weekly intake': 5, 'favourite ice creams': ['MCC', 'Chocolate'], 'weight': 300}\n"
     ]
    }
   ],
   "source": [
    "# updating multiple values in one expression\n",
    "dict_cream.update({'name': 'Alex Freberg', 'weekly intake': 5, 'weight': 300})\n",
    "print(dict_cream)"
   ]
  },
  {
   "cell_type": "code",
   "execution_count": 104,
   "id": "a0f70a00",
   "metadata": {},
   "outputs": [],
   "source": [
    "# deleting values within a dictionary\n",
    "del dict_cream['weight']"
   ]
  },
  {
   "cell_type": "code",
   "execution_count": 105,
   "id": "5397dd50",
   "metadata": {},
   "outputs": [
    {
     "name": "stdout",
     "output_type": "stream",
     "text": [
      "{'name': 'Alex Freberg', 'weekly intake': 5, 'favourite ice creams': ['MCC', 'Chocolate']}\n"
     ]
    }
   ],
   "source": [
    "# viewing the output where the 'weight' key/value pair has been deleted\n",
    "print(dict_cream)"
   ]
  },
  {
   "cell_type": "code",
   "execution_count": null,
   "id": "090e9c3f",
   "metadata": {},
   "outputs": [],
   "source": []
  },
  {
   "cell_type": "code",
   "execution_count": null,
   "id": "14785520",
   "metadata": {},
   "outputs": [],
   "source": []
  }
 ],
 "metadata": {
  "kernelspec": {
   "display_name": "Python 3 (ipykernel)",
   "language": "python",
   "name": "python3"
  },
  "language_info": {
   "codemirror_mode": {
    "name": "ipython",
    "version": 3
   },
   "file_extension": ".py",
   "mimetype": "text/x-python",
   "name": "python",
   "nbconvert_exporter": "python",
   "pygments_lexer": "ipython3",
   "version": "3.9.16"
  }
 },
 "nbformat": 4,
 "nbformat_minor": 5
}
