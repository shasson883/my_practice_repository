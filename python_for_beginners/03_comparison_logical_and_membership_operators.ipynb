{
 "cells": [
  {
   "cell_type": "markdown",
   "id": "afb43d8b",
   "metadata": {},
   "source": [
    "# Comparison, Logical, and Membership Operators"
   ]
  },
  {
   "cell_type": "markdown",
   "id": "30c53881",
   "metadata": {},
   "source": [
    "# Comparison Operators"
   ]
  },
  {
   "cell_type": "code",
   "execution_count": null,
   "id": "925a1aaa",
   "metadata": {},
   "outputs": [],
   "source": [
    "# == Equal\n",
    "# != Not Equal\n",
    "# > Greater than\n",
    "# < Less than\n",
    "# >= Greater than or equal to\n",
    "# <= Less than or equal to\n",
    "\n",
    "# can be used on ints or strings"
   ]
  },
  {
   "cell_type": "code",
   "execution_count": 1,
   "id": "2e7eb5aa",
   "metadata": {},
   "outputs": [
    {
     "data": {
      "text/plain": [
       "True"
      ]
     },
     "execution_count": 1,
     "metadata": {},
     "output_type": "execute_result"
    }
   ],
   "source": [
    "# == Equal\n",
    "\n",
    "10 == 10"
   ]
  },
  {
   "cell_type": "code",
   "execution_count": 3,
   "id": "45d05df1",
   "metadata": {},
   "outputs": [
    {
     "data": {
      "text/plain": [
       "False"
      ]
     },
     "execution_count": 3,
     "metadata": {},
     "output_type": "execute_result"
    }
   ],
   "source": [
    "# != Not Equal\n",
    "\n",
    "'Vanilla' != 'Vanilla'"
   ]
  },
  {
   "cell_type": "code",
   "execution_count": 4,
   "id": "e276cbac",
   "metadata": {},
   "outputs": [
    {
     "data": {
      "text/plain": [
       "True"
      ]
     },
     "execution_count": 4,
     "metadata": {},
     "output_type": "execute_result"
    }
   ],
   "source": [
    "# > Greater than\n",
    "\n",
    "50 > 5"
   ]
  },
  {
   "cell_type": "code",
   "execution_count": 5,
   "id": "ecf26ca1",
   "metadata": {},
   "outputs": [
    {
     "data": {
      "text/plain": [
       "False"
      ]
     },
     "execution_count": 5,
     "metadata": {},
     "output_type": "execute_result"
    }
   ],
   "source": [
    "# < Less than\n",
    "\n",
    "10 < 8"
   ]
  },
  {
   "cell_type": "code",
   "execution_count": 6,
   "id": "c215f588",
   "metadata": {},
   "outputs": [
    {
     "data": {
      "text/plain": [
       "True"
      ]
     },
     "execution_count": 6,
     "metadata": {},
     "output_type": "execute_result"
    }
   ],
   "source": [
    "# >= Greater than or equal to\n",
    "\n",
    "10 >= 10"
   ]
  },
  {
   "cell_type": "code",
   "execution_count": 7,
   "id": "94722007",
   "metadata": {},
   "outputs": [
    {
     "data": {
      "text/plain": [
       "False"
      ]
     },
     "execution_count": 7,
     "metadata": {},
     "output_type": "execute_result"
    }
   ],
   "source": [
    "# <= Less than or equal to\n",
    "\n",
    "8 <= 7"
   ]
  },
  {
   "cell_type": "markdown",
   "id": "6ee695e6",
   "metadata": {},
   "source": [
    "## Logical Operators"
   ]
  },
  {
   "cell_type": "code",
   "execution_count": null,
   "id": "9610dbda",
   "metadata": {},
   "outputs": [],
   "source": [
    "# and -> Returns True if both statements are true\n",
    "# or -> Returns True is one of the statements is true\n",
    "# not -> Reverse the result, returns False if the result is true"
   ]
  },
  {
   "cell_type": "code",
   "execution_count": 9,
   "id": "aefe479c",
   "metadata": {},
   "outputs": [
    {
     "data": {
      "text/plain": [
       "True"
      ]
     },
     "execution_count": 9,
     "metadata": {},
     "output_type": "execute_result"
    }
   ],
   "source": [
    "# and -> Returns True if both statements are true\n",
    "\n",
    "(70 > 50) and (50 > 10)"
   ]
  },
  {
   "cell_type": "code",
   "execution_count": 11,
   "id": "e8b158bc",
   "metadata": {},
   "outputs": [
    {
     "data": {
      "text/plain": [
       "True"
      ]
     },
     "execution_count": 11,
     "metadata": {},
     "output_type": "execute_result"
    }
   ],
   "source": [
    "# or -> Returns True is one of the statements is true\n",
    "\n",
    "# Vanilla is greater than chocolate because 'V' is higher than 'C' in the alphabet\n",
    "\n",
    "('Vanilla' > 'Chocolate') or (50 > 10)"
   ]
  },
  {
   "cell_type": "code",
   "execution_count": 12,
   "id": "c109844e",
   "metadata": {},
   "outputs": [
    {
     "data": {
      "text/plain": [
       "False"
      ]
     },
     "execution_count": 12,
     "metadata": {},
     "output_type": "execute_result"
    }
   ],
   "source": [
    "# not -> Reverse the result, returns False if the result is true\n",
    "\n",
    "not(50 > 10)"
   ]
  },
  {
   "cell_type": "markdown",
   "id": "62e8d2de",
   "metadata": {},
   "source": [
    "## Membership Operators"
   ]
  },
  {
   "cell_type": "code",
   "execution_count": null,
   "id": "209ba92e",
   "metadata": {},
   "outputs": [],
   "source": [
    "# in -> Returns True if a sequence with the specified value is present in the object\n",
    "# not in -> Returns True is a sequence with the specified value is not present in the object"
   ]
  },
  {
   "cell_type": "code",
   "execution_count": 13,
   "id": "3e1ce094",
   "metadata": {},
   "outputs": [
    {
     "data": {
      "text/plain": [
       "True"
      ]
     },
     "execution_count": 13,
     "metadata": {},
     "output_type": "execute_result"
    }
   ],
   "source": [
    "# in -> Returns True if a sequence with the specified value is present in the object\n",
    "\n",
    "ice_cream = 'I love chocolate ice cream'\n",
    "\n",
    "'love' in ice_cream"
   ]
  },
  {
   "cell_type": "code",
   "execution_count": 14,
   "id": "45a8d103",
   "metadata": {},
   "outputs": [
    {
     "data": {
      "text/plain": [
       "True"
      ]
     },
     "execution_count": 14,
     "metadata": {},
     "output_type": "execute_result"
    }
   ],
   "source": [
    "'love' in 'I love chocolate ice cream'"
   ]
  },
  {
   "cell_type": "code",
   "execution_count": 17,
   "id": "246bf323",
   "metadata": {},
   "outputs": [
    {
     "data": {
      "text/plain": [
       "True"
      ]
     },
     "execution_count": 17,
     "metadata": {},
     "output_type": "execute_result"
    }
   ],
   "source": [
    "scoops = [1,2,3,4,5]\n",
    "\n",
    "4 in scoops"
   ]
  },
  {
   "cell_type": "code",
   "execution_count": 20,
   "id": "41099155",
   "metadata": {},
   "outputs": [
    {
     "data": {
      "text/plain": [
       "True"
      ]
     },
     "execution_count": 20,
     "metadata": {},
     "output_type": "execute_result"
    }
   ],
   "source": [
    "# not in -> Returns True is a sequence with the specified value is not present in the object\n",
    "\n",
    "scoops = [1,2,3,4,5]\n",
    "wanted_scoops = 8\n",
    "wanted_scoops not in scoops"
   ]
  }
 ],
 "metadata": {
  "kernelspec": {
   "display_name": "Python 3 (ipykernel)",
   "language": "python",
   "name": "python3"
  },
  "language_info": {
   "codemirror_mode": {
    "name": "ipython",
    "version": 3
   },
   "file_extension": ".py",
   "mimetype": "text/x-python",
   "name": "python",
   "nbconvert_exporter": "python",
   "pygments_lexer": "ipython3",
   "version": "3.9.16"
  }
 },
 "nbformat": 4,
 "nbformat_minor": 5
}
