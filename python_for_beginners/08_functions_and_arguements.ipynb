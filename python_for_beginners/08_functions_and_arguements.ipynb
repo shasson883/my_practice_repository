{
 "cells": [
  {
   "cell_type": "markdown",
   "id": "9bcb05b3",
   "metadata": {},
   "source": [
    "# Functions"
   ]
  },
  {
   "cell_type": "code",
   "execution_count": 1,
   "id": "c7caa118",
   "metadata": {},
   "outputs": [],
   "source": [
    "# defining the function 'first_func'\n",
    "\n",
    "def first_func():\n",
    "    print('We did it!')"
   ]
  },
  {
   "cell_type": "code",
   "execution_count": 2,
   "id": "f6b56ab0",
   "metadata": {},
   "outputs": [
    {
     "name": "stdout",
     "output_type": "stream",
     "text": [
      "We did it!\n"
     ]
    }
   ],
   "source": [
    "# calling the function\n",
    "\n",
    "first_func()"
   ]
  },
  {
   "cell_type": "markdown",
   "id": "1775c3f8",
   "metadata": {},
   "source": [
    "## Arguements"
   ]
  },
  {
   "cell_type": "code",
   "execution_count": 4,
   "id": "8aee132d",
   "metadata": {},
   "outputs": [],
   "source": [
    "# This code defines a function called number_squared that takes one parameter called number. When the function is called \n",
    "# with a numerical value as an argument, it calculates the square of that number (number multiplied by itself) using the \n",
    "# ** operator and then prints the result. The output of this function will be the square of the input number.\n",
    "\n",
    "def number_squared(number):\n",
    "    print(number**2)    "
   ]
  },
  {
   "cell_type": "code",
   "execution_count": 8,
   "id": "b0a3ea41",
   "metadata": {},
   "outputs": [
    {
     "name": "stdout",
     "output_type": "stream",
     "text": [
      "25\n"
     ]
    }
   ],
   "source": [
    "# the parameter number = 5, so the function will apply the function logic to the parameter\n",
    "\n",
    "number_squared(5)"
   ]
  },
  {
   "cell_type": "code",
   "execution_count": 9,
   "id": "7c0058ab",
   "metadata": {},
   "outputs": [],
   "source": [
    "# This code defines a function called number_squared that takes two parameters: number and power. When the function is \n",
    "# called with numerical values for both arguments, it calculates the result of raising number to the power of power \n",
    "# using the ** operator and then prints the result. The output of this function will be the result of the number raised \n",
    "# to the specified power.\n",
    "\n",
    "def number_squared(number,power):\n",
    "    print(number**power)    "
   ]
  },
  {
   "cell_type": "code",
   "execution_count": 11,
   "id": "e5aacf47",
   "metadata": {},
   "outputs": [
    {
     "name": "stdout",
     "output_type": "stream",
     "text": [
      "125\n"
     ]
    }
   ],
   "source": [
    "# note if you have e.g. 2 arguements within your function, you have to pass in 2 values for those parameters when \n",
    "# calling the function\n",
    "\n",
    "number_squared(5,3)"
   ]
  },
  {
   "cell_type": "markdown",
   "id": "ee0bd146",
   "metadata": {},
   "source": [
    "## Arbitrary Arguements"
   ]
  },
  {
   "cell_type": "code",
   "execution_count": 21,
   "id": "cd2f62ae",
   "metadata": {},
   "outputs": [],
   "source": [
    "# This code defines a function called number_args that uses the *number syntax to accept a variable number of arguments, \n",
    "# which are packed into a tuple named number. When the function is called with multiple arguments, it prints the product of \n",
    "# the first two arguments, number[0] and number[1]\n",
    "\n",
    "def number_args(*number):\n",
    "    print(number[0]*number[1])"
   ]
  },
  {
   "cell_type": "code",
   "execution_count": 22,
   "id": "99938f52",
   "metadata": {},
   "outputs": [
    {
     "name": "stdout",
     "output_type": "stream",
     "text": [
      "30\n"
     ]
    }
   ],
   "source": [
    "# number_args(5, 6, 1, 2, 8), the function is called with five arguments: 5, 6, 1, 2, and 8. The function then calculates \n",
    "# and prints the product of the first two arguments, which are 5 and 6\n",
    "# This is because 5 * 6 equals 30, and the function only considers the first two arguments for the product calculation. \n",
    "# Any additional arguments beyond the first two are ignored in this specific implementation of the number_args function\n",
    "\n",
    "number_args(5,6,1,2,8)"
   ]
  },
  {
   "cell_type": "code",
   "execution_count": 27,
   "id": "51b15478",
   "metadata": {},
   "outputs": [],
   "source": [
    "# another way of writing this code, by defining the tuple first as our input which we use when calling the function\n",
    "\n",
    "args_tuple = (5,6,1,2,8)\n",
    "\n",
    "def number_args(*number):\n",
    "    print(number[0]*number[1])"
   ]
  },
  {
   "cell_type": "code",
   "execution_count": 28,
   "id": "9256bda2",
   "metadata": {},
   "outputs": [
    {
     "name": "stdout",
     "output_type": "stream",
     "text": [
      "30\n"
     ]
    }
   ],
   "source": [
    "# because we're using an arbitrary arugement we need to prefix the variable 'args_tuple' with a '*' value\n",
    "\n",
    "number_args(*args_tuple)"
   ]
  },
  {
   "cell_type": "markdown",
   "id": "e7dc363c",
   "metadata": {},
   "source": [
    "## Keyword Arguements"
   ]
  },
  {
   "cell_type": "code",
   "execution_count": null,
   "id": "7db50cb9",
   "metadata": {},
   "outputs": [],
   "source": [
    "# a \"keyword argument\" is a type of function argument that is passed to a function using a keyword (parameter name) along \n",
    "# with its corresponding value. When calling a function with keyword arguments, you explicitly specify the names of the \n",
    "# parameters to which the values should be assigned, regardless of their order."
   ]
  },
  {
   "cell_type": "code",
   "execution_count": 31,
   "id": "f4f870cd",
   "metadata": {},
   "outputs": [],
   "source": [
    "# similar to 'arbitrary arguements' however allows for additional control as you don't have to specify the input parameters\n",
    "# in the same index order\n",
    "\n",
    "def number_squared_cust(number,power):\n",
    "    print(number**power)"
   ]
  },
  {
   "cell_type": "code",
   "execution_count": 32,
   "id": "c8bdfb41",
   "metadata": {},
   "outputs": [
    {
     "name": "stdout",
     "output_type": "stream",
     "text": [
      "243\n"
     ]
    }
   ],
   "source": [
    "# doesn't matter what order we define our variables when writing the code like this\n",
    "\n",
    "number_squared_cust(power = 5, number = 3)"
   ]
  },
  {
   "cell_type": "markdown",
   "id": "8741cffd",
   "metadata": {},
   "source": [
    "## Arbitrary Keyword Arguement"
   ]
  },
  {
   "cell_type": "code",
   "execution_count": null,
   "id": "8a6ddebf",
   "metadata": {},
   "outputs": [],
   "source": [
    "# an \"arbitrary keyword argument\" allows a function to accept an arbitrary number of keyword arguments that are not \n",
    "# explicitly defined in the function signature. This is achieved by using the ** syntax in the function parameter list. \n",
    "# The ** syntax allows you to capture any extra keyword arguments passed to the function as a dictionary."
   ]
  },
  {
   "cell_type": "code",
   "execution_count": 33,
   "id": "938e13f2",
   "metadata": {},
   "outputs": [],
   "source": [
    "# use when we don't know how many keyword arguements we need to pass into our function\n",
    "\n",
    "def number_kwarg(**number):\n",
    "    print('My number is: ' + number['integer'])    "
   ]
  },
  {
   "cell_type": "code",
   "execution_count": 34,
   "id": "700df18d",
   "metadata": {},
   "outputs": [
    {
     "name": "stdout",
     "output_type": "stream",
     "text": [
      "My number is: 2309\n"
     ]
    }
   ],
   "source": [
    "# in this example we pass through one variable into this arbitrary keyword arguement\n",
    "\n",
    "number_kwarg(integer = '2309')"
   ]
  },
  {
   "cell_type": "code",
   "execution_count": 45,
   "id": "56476fc8",
   "metadata": {},
   "outputs": [],
   "source": [
    "# we can multiple variables to our function as follows\n",
    "\n",
    "def number_kwarg_2(**number_var):\n",
    "    print('My number is: ' + number_var['integer'], 'My second number is: ' + number_var['integer_2'])"
   ]
  },
  {
   "cell_type": "code",
   "execution_count": 46,
   "id": "34a92248",
   "metadata": {},
   "outputs": [
    {
     "name": "stdout",
     "output_type": "stream",
     "text": [
      "My number is: 2309 My second number is: 150\n"
     ]
    }
   ],
   "source": [
    "number_kwarg_2(integer = '2309', integer_2 = '150')"
   ]
  }
 ],
 "metadata": {
  "kernelspec": {
   "display_name": "Python 3 (ipykernel)",
   "language": "python",
   "name": "python3"
  },
  "language_info": {
   "codemirror_mode": {
    "name": "ipython",
    "version": 3
   },
   "file_extension": ".py",
   "mimetype": "text/x-python",
   "name": "python",
   "nbconvert_exporter": "python",
   "pygments_lexer": "ipython3",
   "version": "3.9.16"
  }
 },
 "nbformat": 4,
 "nbformat_minor": 5
}
