{
 "cells": [
  {
   "cell_type": "markdown",
   "id": "1c061dbb",
   "metadata": {},
   "source": [
    "# Converting Data Types"
   ]
  },
  {
   "cell_type": "code",
   "execution_count": 2,
   "id": "cca6cfa8",
   "metadata": {},
   "outputs": [
    {
     "data": {
      "text/plain": [
       "int"
      ]
     },
     "execution_count": 2,
     "metadata": {},
     "output_type": "execute_result"
    }
   ],
   "source": [
    "# defining the variable num_int as an integer\n",
    "num_int = 7\n",
    "\n",
    "# validating the data type of the variable num_int\n",
    "type(num_int)"
   ]
  },
  {
   "cell_type": "code",
   "execution_count": 3,
   "id": "b63a86ad",
   "metadata": {},
   "outputs": [
    {
     "data": {
      "text/plain": [
       "str"
      ]
     },
     "execution_count": 3,
     "metadata": {},
     "output_type": "execute_result"
    }
   ],
   "source": [
    "# defining the variable num_int as an string\n",
    "num_str = '7'\n",
    "\n",
    "# validating the data type of the variable num_str\n",
    "type(num_str)"
   ]
  },
  {
   "cell_type": "code",
   "execution_count": 4,
   "id": "f2c2bc58",
   "metadata": {},
   "outputs": [],
   "source": [
    "# converting the variable num_str from a string to an integer\n",
    "\n",
    "num_str_conv = int(num_str)"
   ]
  },
  {
   "cell_type": "code",
   "execution_count": 6,
   "id": "8cbf247d",
   "metadata": {},
   "outputs": [],
   "source": [
    "# now we can add num_int which was already and integer & the converted num_str_conv together\n",
    "\n",
    "num_sum = num_int + num_str_conv"
   ]
  },
  {
   "cell_type": "code",
   "execution_count": 7,
   "id": "17d144de",
   "metadata": {},
   "outputs": [
    {
     "name": "stdout",
     "output_type": "stream",
     "text": [
      "14\n"
     ]
    }
   ],
   "source": [
    "# testing the results\n",
    "\n",
    "print(num_sum)"
   ]
  },
  {
   "cell_type": "markdown",
   "id": "ec130037",
   "metadata": {},
   "source": [
    "## Converting Lists, Tuples, Sets"
   ]
  },
  {
   "cell_type": "code",
   "execution_count": 9,
   "id": "75b85e4f",
   "metadata": {},
   "outputs": [
    {
     "name": "stdout",
     "output_type": "stream",
     "text": [
      "[1, 2, 3]\n"
     ]
    }
   ],
   "source": [
    "# create a list with 3 integer values\n",
    "list_type = [1,2,3]\n",
    "\n",
    "# validating the data type of the variable list_type\n",
    "type(list_type)"
   ]
  },
  {
   "cell_type": "code",
   "execution_count": 13,
   "id": "48c5348a",
   "metadata": {},
   "outputs": [],
   "source": [
    "# converting the list_type variable from a list to a tuple\n",
    "\n",
    "tuple_list_type = tuple(list_type)"
   ]
  },
  {
   "cell_type": "code",
   "execution_count": 14,
   "id": "e7c4eeaf",
   "metadata": {},
   "outputs": [
    {
     "data": {
      "text/plain": [
       "tuple"
      ]
     },
     "execution_count": 14,
     "metadata": {},
     "output_type": "execute_result"
    }
   ],
   "source": [
    "# validating the data type of the variable tuple_list_type\n",
    "\n",
    "type(tuple_list_type)"
   ]
  },
  {
   "cell_type": "code",
   "execution_count": 15,
   "id": "c802ffa6",
   "metadata": {},
   "outputs": [],
   "source": [
    "# creating a new variable list\n",
    "\n",
    "list_type_2 = [1,2,3,3,2,1,2,3,2,1]"
   ]
  },
  {
   "cell_type": "code",
   "execution_count": 21,
   "id": "0160acdf",
   "metadata": {},
   "outputs": [
    {
     "data": {
      "text/plain": [
       "{1, 2, 3}"
      ]
     },
     "execution_count": 21,
     "metadata": {},
     "output_type": "execute_result"
    }
   ],
   "source": [
    "# if you try to convert to a set, a set will take the unique values within the list & only return those values\n",
    "\n",
    "set_type = set(list_type_2)\n",
    "\n",
    "set_type"
   ]
  },
  {
   "cell_type": "code",
   "execution_count": 19,
   "id": "31d3b1f2",
   "metadata": {},
   "outputs": [
    {
     "data": {
      "text/plain": [
       "set"
      ]
     },
     "execution_count": 19,
     "metadata": {},
     "output_type": "execute_result"
    }
   ],
   "source": [
    "type(set_type)"
   ]
  },
  {
   "cell_type": "markdown",
   "id": "c9a900da",
   "metadata": {},
   "source": [
    "## Converting Dictionaries"
   ]
  },
  {
   "cell_type": "code",
   "execution_count": 22,
   "id": "77ca0b8d",
   "metadata": {},
   "outputs": [
    {
     "data": {
      "text/plain": [
       "dict"
      ]
     },
     "execution_count": 22,
     "metadata": {},
     "output_type": "execute_result"
    }
   ],
   "source": [
    "# creating a dictionary & validating the data type\n",
    "\n",
    "dict_type = {'name': 'Alex', 'age': 28, 'hair': 'N/A'}\n",
    "\n",
    "type(dict_type)"
   ]
  },
  {
   "cell_type": "code",
   "execution_count": 23,
   "id": "e5efba9c",
   "metadata": {},
   "outputs": [
    {
     "data": {
      "text/plain": [
       "dict_items([('name', 'Alex'), ('age', 28), ('hair', 'N/A')])"
      ]
     },
     "execution_count": 23,
     "metadata": {},
     "output_type": "execute_result"
    }
   ],
   "source": [
    "# within a data type we have a key/value pair, we have a key which indicates what that value is attributable to\n",
    "\n",
    "dict_type.items()"
   ]
  },
  {
   "cell_type": "code",
   "execution_count": 24,
   "id": "d46a008f",
   "metadata": {},
   "outputs": [
    {
     "data": {
      "text/plain": [
       "dict_values(['Alex', 28, 'N/A'])"
      ]
     },
     "execution_count": 24,
     "metadata": {},
     "output_type": "execute_result"
    }
   ],
   "source": [
    "# will output the values within the dictionary dict_type\n",
    "\n",
    "dict_type.values()"
   ]
  },
  {
   "cell_type": "code",
   "execution_count": 25,
   "id": "a0aaee40",
   "metadata": {},
   "outputs": [
    {
     "data": {
      "text/plain": [
       "dict_keys(['name', 'age', 'hair'])"
      ]
     },
     "execution_count": 25,
     "metadata": {},
     "output_type": "execute_result"
    }
   ],
   "source": [
    "# will output the keys within the dictionary dict_type\n",
    "\n",
    "dict_type.keys()"
   ]
  },
  {
   "cell_type": "code",
   "execution_count": 27,
   "id": "9a722c4f",
   "metadata": {},
   "outputs": [
    {
     "data": {
      "text/plain": [
       "list"
      ]
     },
     "execution_count": 27,
     "metadata": {},
     "output_type": "execute_result"
    }
   ],
   "source": [
    "# converting the keys within a dictionary to a list\n",
    "\n",
    "list(dict_type.keys())"
   ]
  },
  {
   "cell_type": "code",
   "execution_count": 31,
   "id": "e12f0ee0",
   "metadata": {},
   "outputs": [
    {
     "data": {
      "text/plain": [
       "list"
      ]
     },
     "execution_count": 31,
     "metadata": {},
     "output_type": "execute_result"
    }
   ],
   "source": [
    "# validating the data type of the list\n",
    "\n",
    "type(list(dict_type.keys()))"
   ]
  },
  {
   "cell_type": "code",
   "execution_count": 32,
   "id": "38c571fb",
   "metadata": {},
   "outputs": [
    {
     "data": {
      "text/plain": [
       "['Alex', 28, 'N/A']"
      ]
     },
     "execution_count": 32,
     "metadata": {},
     "output_type": "execute_result"
    }
   ],
   "source": [
    "# converting the values within a dictionary to a list\n",
    "\n",
    "list(dict_type.values())"
   ]
  },
  {
   "cell_type": "code",
   "execution_count": 33,
   "id": "a0158eab",
   "metadata": {},
   "outputs": [
    {
     "data": {
      "text/plain": [
       "list"
      ]
     },
     "execution_count": 33,
     "metadata": {},
     "output_type": "execute_result"
    }
   ],
   "source": [
    "# validating the data type of the list\n",
    "\n",
    "type(list(dict_type.values()))"
   ]
  },
  {
   "cell_type": "markdown",
   "id": "d37e3476",
   "metadata": {},
   "source": [
    "## Other Examples"
   ]
  },
  {
   "cell_type": "code",
   "execution_count": 36,
   "id": "1884261c",
   "metadata": {},
   "outputs": [
    {
     "data": {
      "text/plain": [
       "{' ', 'I', 'a', 'e', 'i', 'k', 'l', 'o', 'p', 'r', 't', 'y'}"
      ]
     },
     "execution_count": 36,
     "metadata": {},
     "output_type": "execute_result"
    }
   ],
   "source": [
    "# converting a string into a set, the resulting output will only show the unqiue values within the set\n",
    "\n",
    "long_str = 'I like to party'\n",
    "\n",
    "set(long_str)"
   ]
  }
 ],
 "metadata": {
  "kernelspec": {
   "display_name": "Python 3 (ipykernel)",
   "language": "python",
   "name": "python3"
  },
  "language_info": {
   "codemirror_mode": {
    "name": "ipython",
    "version": 3
   },
   "file_extension": ".py",
   "mimetype": "text/x-python",
   "name": "python",
   "nbconvert_exporter": "python",
   "pygments_lexer": "ipython3",
   "version": "3.9.16"
  }
 },
 "nbformat": 4,
 "nbformat_minor": 5
}
