{
 "cells": [
  {
   "cell_type": "markdown",
   "id": "5bf468c1",
   "metadata": {},
   "source": [
    "# Automatic File Sorter"
   ]
  },
  {
   "cell_type": "code",
   "execution_count": null,
   "id": "e0f40cf8",
   "metadata": {},
   "outputs": [],
   "source": [
    "# https://www.youtube.com/watch?v=gs0FNQR0njI&list=PLUaB-1hjhk8GnKlCG7I-I1tGxiB46SPWA&index=3&ab_channel=AlexTheAnalyst"
   ]
  },
  {
   "cell_type": "code",
   "execution_count": 1,
   "id": "3557c522",
   "metadata": {},
   "outputs": [],
   "source": [
    "# imports the Python modules os and shutil, enabling access to functions for working with the operating system (such as files \n",
    "# and directories) and performing higher-level file operations like copying and moving.\n",
    "\n",
    "import os, shutil"
   ]
  },
  {
   "cell_type": "code",
   "execution_count": 9,
   "id": "1091e982",
   "metadata": {},
   "outputs": [],
   "source": [
    "#The variable path stores a file system path: \"C:.../automatic_file_sorter/\". The prefix \"r\" before the path indicates a raw \n",
    "# string, treating backslashes as literal characters. This path likely points to a directory within a user's GitHub repository \n",
    "# named \"automatic_file_sorter,\" residing in the specified file structure.\n",
    "\n",
    "# in this case we have to use '/' for the code to work correctly rather than '\\'\n",
    "\n",
    "path = r\"C:/Users/shass/my_github/my_practice_repository/datasets/automatic_file_sorter/\""
   ]
  },
  {
   "cell_type": "code",
   "execution_count": 18,
   "id": "447a9fd3",
   "metadata": {},
   "outputs": [],
   "source": [
    "# The variable file_name is assigned the result of calling the os.listdir() function with the argument path. This function \n",
    "# retrieves a list of filenames present in the directory specified by the path variable. The list will contain the names of \n",
    "# files and subdirectories within the specified directory.\n",
    "\n",
    "file_name = os.listdir(path)"
   ]
  },
  {
   "cell_type": "code",
   "execution_count": 16,
   "id": "ade8dc6b",
   "metadata": {},
   "outputs": [],
   "source": [
    "# The code defines a list called folder_names containing four strings representing different folder names: 'csv_files', \n",
    "# 'excel_files', 'image_files', and 'text_files'.\n",
    "\n",
    "folder_names = ['csv_files', 'excel_files', 'image_files', 'text_files']\n",
    "\n",
    "# Then, a for loop iterates four times (from 0 to 3) using the range() function. Inside the loop, it checks if a directory with \n",
    "# the combined path of path and the current folder_names element exists using os.path.exists(). If the directory doesn't exist, \n",
    "# it prints the path and creates the directory using os.makedirs(). This loop is intended to create four new folders (if they \n",
    "# don't already exist) within the directory specified by the path variable, with the names specified in the folder_names list.\n",
    "\n",
    "for loop in range (0,4):\n",
    "    if not os.path.exists(path + folder_names[loop]):\n",
    "        print(path + folder_names[loop])\n",
    "        os.makedirs((path + folder_names[loop]))"
   ]
  },
  {
   "cell_type": "code",
   "execution_count": 27,
   "id": "d77c70e3",
   "metadata": {},
   "outputs": [],
   "source": [
    "# the code defines a function named file_sorter().\n",
    "\n",
    "def file_sorter():\n",
    "    \n",
    "    # Within the function, a for loop iterates over each file in the file_name list.\n",
    "    # For each file, the code uses if and elif statements to determine its extension. Depending on the extension, and if the \n",
    "    # file doesn't already exist in the corresponding destination subdirectory, the code uses shutil.move() to relocate the \n",
    "    # file from its current location to the appropriate subdirectory within the path directory.\n",
    "    # This code correctly sorts files with \".csv\", \".xlsx\", \".txt\", and \".jpg\" extensions into their respective \n",
    "    # subdirectories (\"csv_files\", \"excel_files\", \"text_files\", and \"image_files\") based on the file type.\n",
    "\n",
    "    for file in file_name:\n",
    "        if \".csv\" in file and not os.path.exists(path + 'csv_files/' + file):              \n",
    "            shutil.move(path + file, path + 'csv_files/' + file)\n",
    "        elif \".xlsx\" in file and not os.path.exists(path + 'excel_files/' + file):\n",
    "            shutil.move(path + file, path + 'excel_files/' + file)\n",
    "        elif \".txt\" in file and not os.path.exists(path + 'text_files/' + file):\n",
    "            shutil.move(path + file, path + 'text_files/' + file)\n",
    "        elif \".jpg\" in file and not os.path.exists(path + 'image_files/' + file):\n",
    "            shutil.move(path + file, path + 'image_files/' + file)"
   ]
  },
  {
   "cell_type": "code",
   "execution_count": 28,
   "id": "a4081b3b",
   "metadata": {},
   "outputs": [],
   "source": [
    "# The function file_sorter() is called\n",
    "\n",
    "file_sorter()"
   ]
  }
 ],
 "metadata": {
  "kernelspec": {
   "display_name": "Python 3 (ipykernel)",
   "language": "python",
   "name": "python3"
  },
  "language_info": {
   "codemirror_mode": {
    "name": "ipython",
    "version": 3
   },
   "file_extension": ".py",
   "mimetype": "text/x-python",
   "name": "python",
   "nbconvert_exporter": "python",
   "pygments_lexer": "ipython3",
   "version": "3.9.16"
  }
 },
 "nbformat": 4,
 "nbformat_minor": 5
}
